{
 "cells": [
  {
   "cell_type": "markdown",
   "metadata": {},
   "source": [
    "# Extraction de Keywords"
   ]
  },
  {
   "cell_type": "markdown",
   "metadata": {},
   "source": [
    "## Imports"
   ]
  },
  {
   "cell_type": "code",
   "execution_count": 12,
   "metadata": {},
   "outputs": [],
   "source": [
    "import os\n",
    "import yake"
   ]
  },
  {
   "cell_type": "markdown",
   "metadata": {},
   "source": [
    "## Extraire les mots clés d'un document avec Yake"
   ]
  },
  {
   "cell_type": "markdown",
   "metadata": {},
   "source": [
    "https://github.com/LIAAD/yake"
   ]
  },
  {
   "cell_type": "code",
   "execution_count": 13,
   "metadata": {},
   "outputs": [
    {
     "data": {
      "text/plain": [
       "<yake.yake.KeywordExtractor at 0x28463357a40>"
      ]
     },
     "execution_count": 13,
     "metadata": {},
     "output_type": "execute_result"
    }
   ],
   "source": [
    "# Instantier l'extracteur de mots clés\n",
    "kw_extractor = yake.KeywordExtractor(lan=\"fr\", top=50)\n",
    "kw_extractor"
   ]
  },
  {
   "cell_type": "code",
   "execution_count": 14,
   "metadata": {},
   "outputs": [],
   "source": [
    "# Lister les Fichiers\n",
    "data_path = \"../data/txt/\"\n",
    "files = [f for f in os.listdir(data_path) if f.endswith('.txt')]"
   ]
  },
  {
   "cell_type": "code",
   "execution_count": 15,
   "metadata": {},
   "outputs": [
    {
     "data": {
      "text/plain": [
       "7986"
      ]
     },
     "execution_count": 15,
     "metadata": {},
     "output_type": "execute_result"
    }
   ],
   "source": [
    "# Imprimer le nombre de fichiers identifiés\n",
    "len(files)"
   ]
  },
  {
   "cell_type": "code",
   "execution_count": 16,
   "metadata": {},
   "outputs": [
    {
     "data": {
      "text/plain": [
       "['KB_JB230_1892-08-07_01-0003.txt',\n",
       " 'KB_JB230_1903-10-16_01-0002.txt',\n",
       " 'KB_JB230_1913-07-05_01-0001.txt',\n",
       " 'KB_JB258_1884-09-03_01-0003.txt',\n",
       " 'KB_JB258_1894-12-09_01-0003.txt',\n",
       " 'KB_JB258_1906-01-09_01-0002.txt',\n",
       " 'KB_JB421_1899-05-15_01-00003.txt',\n",
       " 'KB_JB421_1926-10-29_01-00002.txt',\n",
       " 'KB_JB421_1950-04-15_01-00004.txt',\n",
       " 'KB_JB427_1920-01-10_01-00004.txt']"
      ]
     },
     "execution_count": 16,
     "metadata": {},
     "output_type": "execute_result"
    }
   ],
   "source": [
    "# Les dix premiers fichiers\n",
    "files[:10]"
   ]
  },
  {
   "cell_type": "code",
   "execution_count": 17,
   "metadata": {},
   "outputs": [
    {
     "data": {
      "text/plain": [
       "'KB_JB230_1892-08-07_01-0003.txt'"
      ]
     },
     "execution_count": 17,
     "metadata": {},
     "output_type": "execute_result"
    }
   ],
   "source": [
    "# Choisir un fichier\n",
    "this_file = files[0]\n",
    "this_file"
   ]
  },
  {
   "cell_type": "code",
   "execution_count": 18,
   "metadata": {},
   "outputs": [
    {
     "data": {
      "text/plain": [
       "\"m\\n\\n■ Mi-....... nèfoiifoTAMM.\\n\\n13.50; 4 derniers mois, 15.70: i moto de novembre,\\n1. — A relut, courant, I3JRH aaptemfere, 15.78»\\n'sidt m!» à IB0O«' * m0fa **\\n** «*-\\n\\nJÊ%i î&z » tsssix.\\n\\nPremière installation da\\n\\nSYSTÈME KNEIPP\\ndans 1* prou. Rhénane et tAllemagne du Kord\\n\\nOé.Wè OO.TO; poil. 0.» 4 9.40; péché*, ttè fi 1.6*; tac\\nraisin* noirs. 1.80 4 4.00) M. fctanm, 1.58 4 3JD; -n/\\nêb\\ntomate*, 0.50 4 9.80.\\nm Sacres (aux\\nroux 88»,\\n88«. 36.45/00\\n31\\n00) ld. téaoes a* t. août,\\nRecommandée par plusieu\""
      ]
     },
     "execution_count": 18,
     "metadata": {},
     "output_type": "execute_result"
    }
   ],
   "source": [
    "# Récupérer le texte du fichier\n",
    "text = open(os.path.join(data_path, this_file), 'r', encoding='utf-8').read()\n",
    "text[:500]"
   ]
  },
  {
   "cell_type": "code",
   "execution_count": 19,
   "metadata": {},
   "outputs": [
    {
     "data": {
      "text/plain": [
       "[('août', np.float64(0.0024482677030224303)),\n",
       " ('rue', np.float64(0.005202141382708483)),\n",
       " ('froment', np.float64(0.010102223731578982)),\n",
       " ('Bruxelles', np.float64(0.010922801774780022)),\n",
       " ('notaire', np.float64(0.013944354252171283)),\n",
       " ('centiares', np.float64(0.015440866194175987)),\n",
       " ('notaire Verhaegen', np.float64(0.01674622567008264)),\n",
       " ('notaire Verhaegen adjugera', np.float64(0.018188675354703678)),\n",
       " ('ans', np.float64(0.019643664653332466)),\n",
       " ('prix', np.float64(0.021537783839128063)),\n",
       " ('kilo', np.float64(0.022336159659090908)),\n",
       " ('avoine', np.float64(0.03256105071406436)),\n",
       " ('contenance', np.float64(0.03344591668097437)),\n",
       " ('kilos', np.float64(0.03350423948863636)),\n",
       " ('seigle', np.float64(0.03443729988095988)),\n",
       " ('contenant', np.float64(0.034910006065291294)),\n",
       " ('marché', np.float64(0.03692293329015277)),\n",
       " ('chaussée', np.float64(0.03857412549434463)),\n",
       " ('d’une contenance', np.float64(0.04281880069304495)),\n",
       " ('pommes', np.float64(0.04297410367617403)),\n",
       " ('colza', np.float64(0.043974197756013335)),\n",
       " ('ares', np.float64(0.04644179122581253)),\n",
       " ('orge', np.float64(0.04694090939249235)),\n",
       " ('septembre', np.float64(0.04906777633969181)),\n",
       " ('lin', np.float64(0.049266545049963716)),\n",
       " ('Verhaegen', np.float64(0.05130305567026175)),\n",
       " ('maison', np.float64(0.051966689900596684)),\n",
       " ('Gand', np.float64(0.0603540282955512)),\n",
       " ('Commune', np.float64(0.06063314308699346)),\n",
       " ('Verhaegen adjugera', np.float64(0.061632012955930814)),\n",
       " ('notaires', np.float64(0.06274959413477077)),\n",
       " ('bénéfice', np.float64(0.06278972300889929)),\n",
       " ('are', np.float64(0.06501850771613756)),\n",
       " ('relevée', np.float64(0.06594582926923036)),\n",
       " ('terre', np.float64(0.06654826664667975)),\n",
       " ('qualité', np.float64(0.06832216840361488)),\n",
       " ('d’une', np.float64(0.06847284305760433)),\n",
       " (\"bénéfice d'enchères\", np.float64(0.07050517077031208)),\n",
       " ('située rue', np.float64(0.07156579304752378)),\n",
       " ('commerce', np.float64(0.07836060954727654)),\n",
       " (\"d'enchères\", np.float64(0.08341575226946314)),\n",
       " ('vendredi', np.float64(0.08343683517894267)),\n",
       " ('adjugera', np.float64(0.08448928322949323)),\n",
       " ('prix moyen', np.float64(0.08509534484007254)),\n",
       " ('juillet', np.float64(0.08536860815903911)),\n",
       " ('paix', np.float64(0.08596608270533165)),\n",
       " ('Van', np.float64(0.08643676865236183)),\n",
       " ('indigène', np.float64(0.08677386380645696)),\n",
       " ('rue Van', np.float64(0.08806603262477027)),\n",
       " ('ara', np.float64(0.08807539598239059))]"
      ]
     },
     "execution_count": 19,
     "metadata": {},
     "output_type": "execute_result"
    }
   ],
   "source": [
    "# Extraire les mots clés de ce texte\n",
    "keywords = kw_extractor.extract_keywords(text)\n",
    "keywords"
   ]
  },
  {
   "cell_type": "code",
   "execution_count": 20,
   "metadata": {},
   "outputs": [
    {
     "data": {
      "text/plain": [
       "['notaire Verhaegen',\n",
       " 'd’une contenance',\n",
       " 'Verhaegen adjugera',\n",
       " \"bénéfice d'enchères\",\n",
       " 'située rue',\n",
       " 'prix moyen',\n",
       " 'rue Van']"
      ]
     },
     "execution_count": 20,
     "metadata": {},
     "output_type": "execute_result"
    }
   ],
   "source": [
    "# Ne garder que les bigrammes\n",
    "kept = []\n",
    "for kw, score in keywords:\n",
    "    words = kw.split()\n",
    "    if len(words) == 2:\n",
    "        kept.append(kw)\n",
    "kept"
   ]
  },
  {
   "cell_type": "markdown",
   "metadata": {},
   "source": [
    "## Faire la même opération sur tous les documents"
   ]
  },
  {
   "cell_type": "code",
   "execution_count": 21,
   "metadata": {},
   "outputs": [
    {
     "name": "stdout",
     "output_type": "stream",
     "text": [
      "KB_JB230_1892-08-07_01-0003.txt mentions these keywords: notaire Verhaegen, d’une contenance, Verhaegen adjugera, bénéfice d'enchères, située rue, prix moyen, rue Van...\n",
      "KB_JB230_1903-10-16_01-0002.txt mentions these keywords: Mme Loubet, roi d’Italie, liste libérale, Liste catholique, mercredi matin...\n",
      "KB_JB230_1913-07-05_01-0001.txt mentions these keywords: compte rendu, budget belge, grande duchesse, libéral socialiste, parti libérai, projet scolaire, TRAIN ROYAL...\n",
      "KB_JB258_1884-09-03_01-0003.txt mentions these keywords: aocuteof viem, loi loi, loi eet...\n",
      "KB_JB258_1894-12-09_01-0003.txt mentions these keywords: Aujourd’hui dimanche, Camille Dreyfus, quoiqooo Ueuroi, Dreyfus aurait...\n",
      "KB_JB258_1906-01-09_01-0002.txt mentions these keywords: faiiit Joese, Lire demain, Ciit.it dan, Pauline dans, Maître d’Ecole, provoquer dans, ne-t dan, isVvé dans, mieruetneni dans, Mme Krauss...\n",
      "KB_JB421_1899-05-15_01-00003.txt mentions these keywords: phoques balladeurs, wagons employés, semaine correspondante, légèrement pain, pains cuits, senor Gomez...\n",
      "KB_JB421_1926-10-29_01-00002.txt mentions these keywords: procureur général, Banque Nationale, princesse Astrid, prince royal, prince Léopold, Famille Royale, prince Charles, général Nollet, colonel Van, agents temporaires...\n",
      "KB_JB421_1950-04-15_01-00004.txt mentions these keywords: Van Zeeland, roi Léopold, socialiste suisse, Van Mullem, Madeleine Ska, Josée Goffin, s'est rendu, roi qu'il, parti socialiste...\n",
      "KB_JB427_1920-01-10_01-00004.txt mentions these keywords: jeune Aile, référ. exig, Aile ter., bureau journal, bons gages, lee bons, VENTE PUBLIQUE...\n"
     ]
    }
   ],
   "source": [
    "for f in sorted(files)[:10]:\n",
    "    text = open(os.path.join(data_path, f), 'r', encoding=\"utf-8\").read()\n",
    "    keywords = kw_extractor.extract_keywords(text)\n",
    "    kept = []\n",
    "    for kw, score in keywords:\n",
    "        words = kw.split()\n",
    "        if len(words) == 2:\n",
    "            kept.append(kw)\n",
    "    print(f\"{f} mentions these keywords: {', '.join(kept)}...\")"
   ]
  }
 ],
 "metadata": {
  "kernelspec": {
   "display_name": "Python 3",
   "language": "python",
   "name": "python3"
  },
  "language_info": {
   "codemirror_mode": {
    "name": "ipython",
    "version": 3
   },
   "file_extension": ".py",
   "mimetype": "text/x-python",
   "name": "python",
   "nbconvert_exporter": "python",
   "pygments_lexer": "ipython3",
   "version": "3.12.0"
  }
 },
 "nbformat": 4,
 "nbformat_minor": 4
}
