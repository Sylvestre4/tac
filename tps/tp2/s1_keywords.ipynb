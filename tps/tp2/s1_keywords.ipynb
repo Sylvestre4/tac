{
 "cells": [
  {
   "cell_type": "markdown",
   "metadata": {},
   "source": [
    "# Extraction de Keywords"
   ]
  },
  {
   "cell_type": "markdown",
   "metadata": {},
   "source": [
    "## Imports"
   ]
  },
  {
   "cell_type": "code",
   "execution_count": 3,
   "metadata": {},
   "outputs": [],
   "source": [
    "import os\n",
    "import yake"
   ]
  },
  {
   "cell_type": "markdown",
   "metadata": {},
   "source": [
    "## Extraire les mots clés d'un document avec Yake"
   ]
  },
  {
   "cell_type": "markdown",
   "metadata": {},
   "source": [
    "https://github.com/LIAAD/yake"
   ]
  },
  {
   "cell_type": "code",
   "execution_count": null,
   "metadata": {},
   "outputs": [],
   "source": [
    "# Instantier l'extracteur de mots clés\n",
    "kw_extractor = yake.KeywordExtractor(lan=\"fr\", top=50)\n",
    "kw_extractor"
   ]
  },
  {
   "cell_type": "code",
   "execution_count": 5,
   "metadata": {},
   "outputs": [],
   "source": [
    "# Lister les Fichiers\n",
    "data_path = \"../../data/txt/\"\n",
    "files = [f for f in os.listdir(data_path) if f.endswith('.txt')]"
   ]
  },
  {
   "cell_type": "code",
   "execution_count": null,
   "metadata": {},
   "outputs": [],
   "source": [
    "# Imprimer le nombre de fichiers identifiés\n",
    "len(files)"
   ]
  },
  {
   "cell_type": "code",
   "execution_count": null,
   "metadata": {},
   "outputs": [],
   "source": [
    "# Les dix premiers fichiers\n",
    "files[:10]"
   ]
  },
  {
   "cell_type": "markdown",
   "metadata": {},
   "source": [
    "## Choix de l'année 1950"
   ]
  },
  {
   "cell_type": "markdown",
   "metadata": {},
   "source": [
    "### initialisation d'une liste pour les fichiers de 1950"
   ]
  },
  {
   "cell_type": "code",
   "execution_count": 8,
   "metadata": {},
   "outputs": [],
   "source": [
    "files_1950 = []"
   ]
  },
  {
   "cell_type": "markdown",
   "metadata": {},
   "source": [
    "### Parcourir les fichiers et vérifier l'année dans leur nom"
   ]
  },
  {
   "cell_type": "code",
   "execution_count": 9,
   "metadata": {},
   "outputs": [],
   "source": [
    "for file_name in files:\n",
    "    # En supposant que l'année est toujours les 4 chiffres après le deuxième underscore,\n",
    "    try:\n",
    "        parts = file_name.split('_')\n",
    "        year_str = parts[2].split('-')[0]\n",
    "        if year_str == '1950':\n",
    "            files_1950.append(file_name)\n",
    "    except IndexError:\n",
    "        print(f\"Attention : Impossible de parser l'année à partir du nom de fichier : {file_name}\")\n",
    "        continue\n",
    "    except Exception as e:\n",
    "        print(f\"Une erreur inattendue est survenue lors du traitement de {file_name} : {e}\")\n",
    "        continue"
   ]
  },
  {
   "cell_type": "markdown",
   "metadata": {},
   "source": [
    "### Affichage du nombre de fichiers trouvés pour 1950"
   ]
  },
  {
   "cell_type": "code",
   "execution_count": null,
   "metadata": {},
   "outputs": [],
   "source": [
    "print(f\"Nombre de fichiers de l'année 1950 : {len(files_1950)}\")"
   ]
  },
  {
   "cell_type": "markdown",
   "metadata": {},
   "source": [
    "### Afficher les dix premiers fichiers de 1950"
   ]
  },
  {
   "cell_type": "code",
   "execution_count": null,
   "metadata": {},
   "outputs": [],
   "source": [
    "if files_1950:\n",
    "    print(\"Les dix premiers fichiers de 1950 :\")\n",
    "    print(files_1950[:10])\n",
    "else:\n",
    "    print(\"Aucun fichier trouvé pour l'année 1950.\")"
   ]
  },
  {
   "cell_type": "markdown",
   "metadata": {},
   "source": [
    "### Lecture"
   ]
  },
  {
   "cell_type": "code",
   "execution_count": null,
   "metadata": {},
   "outputs": [],
   "source": [
    "for file_name in files_1950:\n",
    "    file_path = os.path.join(data_path, file_name)\n",
    "    try:\n",
    "       \n",
    "        with open(file_path, 'r', encoding='utf-8') as f:\n",
    "            text = f.read() \n",
    "\n",
    "        # Affichage du debut de chaque texte\n",
    "        print(f\"\\n--- Contenu du fichier : {file_name} ---\")\n",
    "        print(text[:500]) \n",
    "\n",
    "    except FileNotFoundError:\n",
    "        print(f\"Erreur : Le fichier {file_path} n'a pas été trouvé.\")\n",
    "    except Exception as e:\n",
    "        print(f\"Une erreur est survenue lors de la lecture de {file_path} : {e}\")"
   ]
  },
  {
   "cell_type": "code",
   "execution_count": null,
   "metadata": {},
   "outputs": [],
   "source": [
    "# Extraire les mots clés de ce texte\n",
    "keywords = kw_extractor.extract_keywords(text)\n",
    "keywords"
   ]
  },
  {
   "cell_type": "code",
   "execution_count": null,
   "metadata": {},
   "outputs": [],
   "source": [
    "# Ne garder que les bigrammes\n",
    "kept = []\n",
    "for kw, score in keywords:\n",
    "    words = kw.split()\n",
    "    if len(words) == 2:\n",
    "        kept.append(kw)\n",
    "kept"
   ]
  }
 ],
 "metadata": {
  "kernelspec": {
   "display_name": "tac_venv",
   "language": "python",
   "name": "python3"
  },
  "language_info": {
   "codemirror_mode": {
    "name": "ipython",
    "version": 3
   },
   "file_extension": ".py",
   "mimetype": "text/x-python",
   "name": "python",
   "nbconvert_exporter": "python",
   "pygments_lexer": "ipython3",
   "version": "3.13.5"
  }
 },
 "nbformat": 4,
 "nbformat_minor": 4
}
