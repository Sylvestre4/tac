{
 "cells": [
  {
   "cell_type": "markdown",
   "metadata": {},
   "source": [
    "# Sentiment analysis \n",
    "\n",
    "## 1. Textblob-FR\n",
    "\n",
    "Documentation: https://textblob.readthedocs.io/en/dev/\n",
    "\n",
    "### Imports"
   ]
  },
  {
   "cell_type": "code",
   "execution_count": 24,
   "metadata": {},
   "outputs": [],
   "source": [
    "import os\n",
    "import re\n",
    "from textblob import Blobber\n",
    "from textblob_fr import PatternTagger, PatternAnalyzer"
   ]
  },
  {
   "cell_type": "markdown",
   "metadata": {},
   "source": [
    "### Création d'une fonction `get_sentiment`"
   ]
  },
  {
   "cell_type": "code",
   "execution_count": 25,
   "metadata": {},
   "outputs": [],
   "source": [
    "tb = Blobber(pos_tagger=PatternTagger(), analyzer=PatternAnalyzer())\n",
    "\n",
    "def get_sentiment(input_text):\n",
    "    blob = tb(input_text)\n",
    "    polarity, subjectivity = blob.sentiment\n",
    "    polarity_perc = f\"{100*abs(polarity):.0f}\"\n",
    "    subjectivity_perc = f\"{100*subjectivity:.0f}\"\n",
    "    if polarity > 0:\n",
    "        polarity_str = f\"{polarity_perc}% positive\"\n",
    "    elif polarity < 0:\n",
    "        polarity_str = f\"{polarity_perc}% negative\"\n",
    "    else:\n",
    "        polarity_str = \"neutral\"\n",
    "    if subjectivity > 0:\n",
    "        subjectivity_str = f\"{subjectivity_perc}% subjective\"\n",
    "    else:\n",
    "        subjectivity_str = \"perfectly objective\"\n",
    "    print(f\"→ Cette phrase est {polarity_str} et {subjectivity_str}.\")\n",
    "\n"
   ]
  },
  {
   "cell_type": "markdown",
   "metadata": {},
   "source": [
    "### Analyser le sentiment de 10 phrases"
   ]
  },
  {
   "cell_type": "code",
   "execution_count": null,
   "metadata": {
    "tags": []
   },
   "outputs": [],
   "source": [
    "import re\n",
    "from textblob import Blobber\n",
    "from textblob_fr import PatternTagger, PatternAnalyzer\n",
    "\n",
    "# Initialisation TextBlob français\n",
    "tb = Blobber(pos_tagger=PatternTagger(), analyzer=PatternAnalyzer())\n",
    "\n",
    "def get_sentiment(input_text):\n",
    "    blob = tb(input_text)\n",
    "    polarity, subjectivity = blob.sentiment\n",
    "    polarity_perc = f\"{100 * abs(polarity):.0f}\"\n",
    "    subjectivity_perc = f\"{100 * subjectivity:.0f}\"\n",
    "\n",
    "    if polarity > 0:\n",
    "        polarity_str = f\"{polarity_perc}% positive\"\n",
    "    elif polarity < 0:\n",
    "        polarity_str = f\"{polarity_perc}% negative\"\n",
    "    else:\n",
    "        polarity_str = \"neutral\"\n",
    "\n",
    "    subjectivity_str = f\"{subjectivity_perc}% subjective\" if subjectivity > 0 else \"perfectly objective\"\n",
    "    print(f\"→ Cette phrase est {polarity_str} et {subjectivity_str}.\")\n",
    "\n",
    "# 10 phrases nettoyées, sélectionnées manuellement pour cohérence\n",
    "sentences_for_analysis = [\n",
    "    \"VENDREDI 3 MARS 1950 — Le sommaire 13.\",\n",
    "    \"PECTORAL DUPUIS, actif, agréable, facile.\",\n",
    "    \"Payez votre 4 CV Renault neuve, 4.500 francs comptant ou 24 fois 2.150 francs.\",\n",
    "    \"Mêmes facilités pour toutes autres marques essais sans engagement.\",\n",
    "    \"AUTO-BOURSE, 2 rue Antoine Dansaert, 2, à Bruxelles. Téléphone 12.19.34.\",\n",
    "    \"FORD 49 V8 et 6 cylindres, 2 et 4 portes, état neuf — Garantie 6 mois.\",\n",
    "    \"BEIG1UM FNEUlu — Pneus d’occasion de première qualité, toutes dimensions.\",\n",
    "    \"Demandez le tarif à 150S, 213, chaussée d'Anvers, Bruxelles Tél. 17.96.79.\",\n",
    "    \"JAGUAR 3.9 J, Ford V8 Custom 48, Frazer, STANDARD 48, Lancia Ardea 48, Renault 4 CV 48.\",\n",
    "    \"FORD Prefect 48, TRIUMPH, Chevrolet, VAUXHALL, ROVER 12 et 16, Renault Juva 4.\"\n",
    "]\n",
    "\n",
    "print(f\"Analyse des {len(sentences_for_analysis)} phrases nettoyées :\\n\")\n",
    "for i, sentence in enumerate(sentences_for_analysis):\n",
    "    print(f\"{i+1}. {sentence}\")\n",
    "    get_sentiment(sentence)\n",
    "    print()\n"
   ]
  }
 ],
 "metadata": {
  "kernelspec": {
   "display_name": "tac_venv",
   "language": "python",
   "name": "python3"
  },
  "language_info": {
   "codemirror_mode": {
    "name": "ipython",
    "version": 3
   },
   "file_extension": ".py",
   "mimetype": "text/x-python",
   "name": "python",
   "nbconvert_exporter": "python",
   "pygments_lexer": "ipython3",
   "version": "3.13.5"
  }
 },
 "nbformat": 4,
 "nbformat_minor": 4
}
