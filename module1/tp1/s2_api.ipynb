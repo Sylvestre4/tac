{
 "cells": [
  {
   "cell_type": "markdown",
   "metadata": {},
   "source": [
    "# APIs: requêtes HTTP"
   ]
  },
  {
   "cell_type": "markdown",
   "metadata": {},
   "source": [
    "## Imports"
   ]
  },
  {
   "cell_type": "code",
   "execution_count": 36,
   "metadata": {},
   "outputs": [],
   "source": [
    "import json\n",
    "import requests"
   ]
  },
  {
   "cell_type": "markdown",
   "metadata": {},
   "source": [
    "## Utiliser [translate google](https://translate.googleapis.com/translate_a/single) pour connaître les coordonnées géographiques d'une adresse"
   ]
  },
  {
   "cell_type": "code",
   "execution_count": 37,
   "metadata": {},
   "outputs": [
    {
     "name": "stdout",
     "output_type": "stream",
     "text": [
      "('Ich bin müde', \"I'm tired\")\n"
     ]
    }
   ],
   "source": [
    "import requests\n",
    "API_URL = \"https://translate.googleapis.com/translate_a/single\"\n",
    "class Translator(object):\n",
    "   def __init__(self, translate_from, translate_to):\n",
    "       self.payload = {\n",
    "           \"client\": \"gtx\",\n",
    "           \"dt\": \"t\",\n",
    "           \"sl\": translate_from,\n",
    "           \"tl\": translate_to,\n",
    "           \"q\": \"\"\n",
    "       }\n",
    "   def translate(self, word):\n",
    "       self.payload['q'] = word\n",
    "       with requests.Session() as sess:\n",
    "           request = sess.post(API_URL, self.payload)\n",
    "           post_json = request.json()\n",
    "           if request.status_code == 200:\n",
    "               return post_json[0][0][0], post_json[0][0][1]\n",
    "translator = Translator(\"en\", \"de\")\n",
    "print(translator.translate(\"I'm tired\"))\n",
    "\n",
    "\n",
    "\n"
   ]
  },
  {
   "cell_type": "markdown",
   "metadata": {},
   "source": [
    "## Pour en savoir plus"
   ]
  },
  {
   "cell_type": "markdown",
   "metadata": {},
   "source": [
    "- Les API Rest: https://towardsdatascience.com/introduction-to-rest-apis-90b5d9676004\n",
    "- La librairie [`requests`](https://requests.readthedocs.io/en/latest/)\n",
    "- Développer une API en Python : https://openclassrooms.com/en/courses/4525361-realisez-un-dashboard-avec-tableau/5774811-creez-une-api-avec-flask"
   ]
  }
 ],
 "metadata": {
  "kernelspec": {
   "display_name": "Python 3",
   "language": "python",
   "name": "python3"
  },
  "language_info": {
   "codemirror_mode": {
    "name": "ipython",
    "version": 3
   },
   "file_extension": ".py",
   "mimetype": "text/x-python",
   "name": "python",
   "nbconvert_exporter": "python",
   "pygments_lexer": "ipython3",
   "version": "3.12.0"
  }
 },
 "nbformat": 4,
 "nbformat_minor": 4
}
