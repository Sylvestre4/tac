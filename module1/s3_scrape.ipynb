{
 "cells": [
  {
   "cell_type": "markdown",
   "metadata": {},
   "source": [
    "# Scraping: récupération de la page d'accueil du journal Le Soir\n",
    "\n",
    "Dans ce notebook, nous créons un robot qui va ouvrir la page d'accueil du site du journal [Le Soir](https://www.lesoir.be/) et récupérer le titre de tous les articles du jour et les stocker dans un fichier csv."
   ]
  },
  {
   "cell_type": "markdown",
   "metadata": {},
   "source": [
    "## Imports"
   ]
  },
  {
   "cell_type": "code",
   "execution_count": 29,
   "metadata": {},
   "outputs": [],
   "source": [
    "import os\n",
    "import requests\n",
    "from bs4 import BeautifulSoup\n",
    "from urllib.parse import urljoin\n"
   ]
  },
  {
   "cell_type": "markdown",
   "metadata": {},
   "source": [
    "## Téléchargement des fichiers pdf camille\n",
    "\n"
   ]
  },
  {
   "cell_type": "code",
   "execution_count": 27,
   "metadata": {},
   "outputs": [
    {
     "name": "stdout",
     "output_type": "stream",
     "text": [
      "Téléchargement de pdfs\\KB_JB230_1892-08-07_01-0003.pdf...\n",
      "Fichier pdfs\\KB_JB230_1892-08-07_01-0003.pdf téléchargé avec succès.\n",
      "Téléchargement de pdfs\\KB_JB427_1920-01-10_01-00004.pdf...\n",
      "Fichier pdfs\\KB_JB427_1920-01-10_01-00004.pdf téléchargé avec succès.\n",
      "Téléchargement de pdfs\\KB_JB555_1836-02-08_01-00002.pdf...\n",
      "Fichier pdfs\\KB_JB555_1836-02-08_01-00002.pdf téléchargé avec succès.\n",
      "Téléchargement de pdfs\\KB_JB638_1860-05-21_01-00002.pdf...\n",
      "Fichier pdfs\\KB_JB638_1860-05-21_01-00002.pdf téléchargé avec succès.\n",
      "Téléchargement de pdfs\\KB_JB773_1918-11-30_01-00002.pdf...\n",
      "Fichier pdfs\\KB_JB773_1918-11-30_01-00002.pdf téléchargé avec succès.\n",
      "Téléchargement de pdfs\\KB_JB838_1887-12-28_01-00003.pdf...\n",
      "Fichier pdfs\\KB_JB838_1887-12-28_01-00003.pdf téléchargé avec succès.\n",
      "Téléchargement de pdfs\\KB_JB230_1903-10-16_01-0002.pdf...\n",
      "Fichier pdfs\\KB_JB230_1903-10-16_01-0002.pdf téléchargé avec succès.\n",
      "Téléchargement de pdfs\\KB_JB427_1933-01-04_01-00003.pdf...\n",
      "Fichier pdfs\\KB_JB427_1933-01-04_01-00003.pdf téléchargé avec succès.\n",
      "Téléchargement de pdfs\\KB_JB555_1899-01-19_01-00003.pdf...\n",
      "Fichier pdfs\\KB_JB555_1899-01-19_01-00003.pdf téléchargé avec succès.\n",
      "Téléchargement de pdfs\\KB_JB638_1902-12-20_01-00002.pdf...\n",
      "Fichier pdfs\\KB_JB638_1902-12-20_01-00002.pdf téléchargé avec succès.\n",
      "Téléchargement de pdfs\\KB_JB773_1933-10-07_01-00007.pdf...\n",
      "Fichier pdfs\\KB_JB773_1933-10-07_01-00007.pdf téléchargé avec succès.\n",
      "Téléchargement de pdfs\\KB_JB838_1911-08-03_01-00006.pdf...\n",
      "Fichier pdfs\\KB_JB838_1911-08-03_01-00006.pdf téléchargé avec succès.\n",
      "Téléchargement de pdfs\\KB_JB230_1913-07-05_01-0001.pdf...\n",
      "Fichier pdfs\\KB_JB230_1913-07-05_01-0001.pdf téléchargé avec succès.\n",
      "Téléchargement de pdfs\\KB_JB427_1949-07-18_01-00008.pdf...\n",
      "Fichier pdfs\\KB_JB427_1949-07-18_01-00008.pdf téléchargé avec succès.\n",
      "Téléchargement de pdfs\\KB_JB555_1940-03-01_01-00004.pdf...\n",
      "Fichier pdfs\\KB_JB555_1940-03-01_01-00004.pdf téléchargé avec succès.\n",
      "Téléchargement de pdfs\\KB_JB638_1946-07-18_01-00003.pdf...\n",
      "Fichier pdfs\\KB_JB638_1946-07-18_01-00003.pdf téléchargé avec succès.\n",
      "Téléchargement de pdfs\\KB_JB773_1950-07-22_01-00010.pdf...\n",
      "Fichier pdfs\\KB_JB773_1950-07-22_01-00010.pdf téléchargé avec succès.\n",
      "Téléchargement de pdfs\\KB_JB838_1943-09-04_01-00002.pdf...\n",
      "Fichier pdfs\\KB_JB838_1943-09-04_01-00002.pdf téléchargé avec succès.\n",
      "Téléchargement de pdfs\\KB_JB258_1884-09-03_01-0003.pdf...\n",
      "Fichier pdfs\\KB_JB258_1884-09-03_01-0003.pdf téléchargé avec succès.\n",
      "Téléchargement de pdfs\\KB_JB449_1846-05-30_01-00002.pdf...\n",
      "Fichier pdfs\\KB_JB449_1846-05-30_01-00002.pdf téléchargé avec succès.\n",
      "Téléchargement de pdfs\\KB_JB567_1857-02-02_01-00003.pdf...\n",
      "Fichier pdfs\\KB_JB567_1857-02-02_01-00003.pdf téléchargé avec succès.\n",
      "Téléchargement de pdfs\\KB_JB685_1894-05-14_01-0003.pdf...\n",
      "Fichier pdfs\\KB_JB685_1894-05-14_01-0003.pdf téléchargé avec succès.\n",
      "Téléchargement de pdfs\\KB_JB835_1911-04-24_01-00004.pdf...\n",
      "Fichier pdfs\\KB_JB835_1911-04-24_01-00004.pdf téléchargé avec succès.\n",
      "Téléchargement de pdfs\\KB_JB92_1860-02-09_01-00003.pdf...\n",
      "Fichier pdfs\\KB_JB92_1860-02-09_01-00003.pdf téléchargé avec succès.\n",
      "Téléchargement de pdfs\\KB_JB258_1894-12-09_01-0003.pdf...\n",
      "Fichier pdfs\\KB_JB258_1894-12-09_01-0003.pdf téléchargé avec succès.\n",
      "Téléchargement de pdfs\\KB_JB449_1912-01-04_01-00003.pdf...\n",
      "Fichier pdfs\\KB_JB449_1912-01-04_01-00003.pdf téléchargé avec succès.\n",
      "Téléchargement de pdfs\\KB_JB567_1892-01-03_01-00005.pdf...\n",
      "Fichier pdfs\\KB_JB567_1892-01-03_01-00005.pdf téléchargé avec succès.\n",
      "Téléchargement de pdfs\\KB_JB685_1903-01-18_01-0002.pdf...\n",
      "Fichier pdfs\\KB_JB685_1903-01-18_01-0002.pdf téléchargé avec succès.\n",
      "Téléchargement de pdfs\\KB_JB835_1930-04-08_01-00006.pdf...\n",
      "Fichier pdfs\\KB_JB835_1930-04-08_01-00006.pdf téléchargé avec succès.\n",
      "Téléchargement de pdfs\\KB_JB92_1873-02-06_01-00002.pdf...\n",
      "Fichier pdfs\\KB_JB92_1873-02-06_01-00002.pdf téléchargé avec succès.\n",
      "Téléchargement de pdfs\\KB_JB258_1906-01-09_01-0002.pdf...\n",
      "Fichier pdfs\\KB_JB258_1906-01-09_01-0002.pdf téléchargé avec succès.\n",
      "Téléchargement de pdfs\\KB_JB449_1947-08-29_01-00003.pdf...\n",
      "Fichier pdfs\\KB_JB449_1947-08-29_01-00003.pdf téléchargé avec succès.\n",
      "Téléchargement de pdfs\\KB_JB567_1924-08-30_01-00003.pdf...\n",
      "Fichier pdfs\\KB_JB567_1924-08-30_01-00003.pdf téléchargé avec succès.\n",
      "Téléchargement de pdfs\\KB_JB685_1913-06-07_01-0006.pdf...\n",
      "Fichier pdfs\\KB_JB685_1913-06-07_01-0006.pdf téléchargé avec succès.\n",
      "Téléchargement de pdfs\\KB_JB835_1949-09-18_01-00004.pdf...\n",
      "Fichier pdfs\\KB_JB835_1949-09-18_01-00004.pdf téléchargé avec succès.\n",
      "Téléchargement de pdfs\\KB_JB92_1885-09-29_01-00002.pdf...\n",
      "Fichier pdfs\\KB_JB92_1885-09-29_01-00002.pdf téléchargé avec succès.\n",
      "Téléchargement de pdfs\\KB_JB421_1899-05-15_01-00003.pdf...\n",
      "Fichier pdfs\\KB_JB421_1899-05-15_01-00003.pdf téléchargé avec succès.\n",
      "Téléchargement de pdfs\\KB_JB494_1853-10-30_01-0002.pdf...\n",
      "Fichier pdfs\\KB_JB494_1853-10-30_01-0002.pdf téléchargé avec succès.\n",
      "Téléchargement de pdfs\\KB_JB572_1850-03-15_01-00003.pdf...\n",
      "Fichier pdfs\\KB_JB572_1850-03-15_01-00003.pdf téléchargé avec succès.\n",
      "Téléchargement de pdfs\\KB_JB729_1895-10-08_01-00003.pdf...\n",
      "Fichier pdfs\\KB_JB729_1895-10-08_01-00003.pdf téléchargé avec succès.\n",
      "Téléchargement de pdfs\\KB_JB837_1886-12-28_01-00002.pdf...\n",
      "Fichier pdfs\\KB_JB837_1886-12-28_01-00002.pdf téléchargé avec succès.\n",
      "Téléchargement de pdfs\\KB_JB421_1926-10-29_01-00002.pdf...\n",
      "Fichier pdfs\\KB_JB421_1926-10-29_01-00002.pdf téléchargé avec succès.\n",
      "Téléchargement de pdfs\\KB_JB494_1922-09-28_01-0005.pdf...\n",
      "Fichier pdfs\\KB_JB494_1922-09-28_01-0005.pdf téléchargé avec succès.\n",
      "Téléchargement de pdfs\\KB_JB572_1927-07-20_01-00005.pdf...\n",
      "Fichier pdfs\\KB_JB572_1927-07-20_01-00005.pdf téléchargé avec succès.\n",
      "Téléchargement de pdfs\\KB_JB729_1927-11-15_01-00004.pdf...\n",
      "Fichier pdfs\\KB_JB729_1927-11-15_01-00004.pdf téléchargé avec succès.\n",
      "Téléchargement de pdfs\\KB_JB837_1925-01-01_01-00003.pdf...\n",
      "Fichier pdfs\\KB_JB837_1925-01-01_01-00003.pdf téléchargé avec succès.\n",
      "Téléchargement de pdfs\\KB_JB421_1950-04-15_01-00004.pdf...\n",
      "Fichier pdfs\\KB_JB421_1950-04-15_01-00004.pdf téléchargé avec succès.\n",
      "Téléchargement de pdfs\\KB_JB494_1939-12-08_01-0004.pdf...\n",
      "Fichier pdfs\\KB_JB494_1939-12-08_01-0004.pdf téléchargé avec succès.\n",
      "Téléchargement de pdfs\\KB_JB572_1950-06-07_01-00004.pdf...\n",
      "Fichier pdfs\\KB_JB572_1950-06-07_01-00004.pdf téléchargé avec succès.\n",
      "Téléchargement de pdfs\\KB_JB729_1939-10-31_01-00006.pdf...\n",
      "Fichier pdfs\\KB_JB729_1939-10-31_01-00006.pdf téléchargé avec succès.\n",
      "Téléchargement de pdfs\\KB_JB837_1950-12-01_01-00007.pdf...\n",
      "Fichier pdfs\\KB_JB837_1950-12-01_01-00007.pdf téléchargé avec succès.\n"
     ]
    }
   ],
   "source": [
    "# URL de la page contenant les liens des fichiers PDF\n",
    "base_url = \"https://max.de.wilde.web.ulb.be/camille/\"\n",
    "\n",
    "# Dossier de destination pour les fichiers PDF\n",
    "output_folder = \"pdfs\"\n",
    "\n",
    "# Créer un répertoire local pour stocker les fichiers PDF\n",
    "if not os.path.exists(output_folder):\n",
    "    os.makedirs(output_folder)\n",
    "\n",
    "# Obtenir la page web\n",
    "response = requests.get(base_url)\n",
    "\n",
    "# Vérifier si la requête a réussi\n",
    "if response.status_code == 200:\n",
    "    soup = BeautifulSoup(response.text, \"html.parser\")\n",
    "\n",
    "    # Rechercher tous les liens (balises <a>) qui pointent vers des fichiers PDF\n",
    "    pdf_links = [a['href'] for a in soup.find_all('a', href=True) if a['href'].endswith('.pdf')]\n",
    "\n",
    "    # Télécharger chaque fichier PDF\n",
    "    for pdf_link in pdf_links:\n",
    "        # Construire l'URL complet\n",
    "        pdf_url = urljoin(base_url, pdf_link)\n",
    "\n",
    "        # Nom du fichier PDF\n",
    "        pdf_filename = os.path.join(output_folder, pdf_link)\n",
    "\n",
    "        # Télécharger et sauvegarder le fichier PDF\n",
    "        print(f\"Téléchargement de {pdf_filename}...\")\n",
    "        pdf_response = requests.get(pdf_url)\n",
    "\n",
    "        if pdf_response.status_code == 200:\n",
    "            with open(pdf_filename, 'wb') as pdf_file:\n",
    "                pdf_file.write(pdf_response.content)\n",
    "            print(f\"Fichier {pdf_filename} téléchargé avec succès.\")\n",
    "        else:\n",
    "            print(f\"Erreur lors du téléchargement de {pdf_filename}.\")\n",
    "else:\n",
    "    print(f\"Erreur lors de l'accès à {base_url}.\")"
   ]
  },
  {
   "cell_type": "markdown",
   "metadata": {},
   "source": [
    "## Pour en savoir plus"
   ]
  },
  {
   "cell_type": "markdown",
   "metadata": {},
   "source": [
    "- Le web scraping avec Python: https://realpython.com/beautiful-soup-web-scraper-python/\n",
    "- Tutoriel sur les expressions régulières: https://www.w3schools.com/python/python_regex.asp"
   ]
  }
 ],
 "metadata": {
  "kernelspec": {
   "display_name": "Python 3",
   "language": "python",
   "name": "python3"
  },
  "language_info": {
   "codemirror_mode": {
    "name": "ipython",
    "version": 3
   },
   "file_extension": ".py",
   "mimetype": "text/x-python",
   "name": "python",
   "nbconvert_exporter": "python",
   "pygments_lexer": "ipython3",
   "version": "3.12.0"
  }
 },
 "nbformat": 4,
 "nbformat_minor": 4
}
